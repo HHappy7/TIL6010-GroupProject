{
 "cells": [
  {
   "cell_type": "markdown",
   "id": "1e599c74",
   "metadata": {},
   "source": [
    "# Assignment"
   ]
  },
  {
   "cell_type": "markdown",
   "id": "0cb65c07",
   "metadata": {},
   "source": [
    "here comes info about the assignment"
   ]
  },
  {
   "cell_type": "markdown",
   "id": "664cd6b4",
   "metadata": {},
   "source": [
    "## Import libraries"
   ]
  },
  {
   "cell_type": "markdown",
   "id": "16004f15",
   "metadata": {},
   "source": [
    "here come all the imported libraries"
   ]
  },
  {
   "cell_type": "code",
   "execution_count": 120,
   "id": "2cc0a442",
   "metadata": {},
   "outputs": [],
   "source": [
    "import pandas as pd\n",
    "from pathlib import Path\n",
    "import numpy as np\n",
    "import math\n",
    "import scipy\n",
    "from scipy.signal import find_peaks\n",
    "import plotly.graph_objects as go\n",
    "import plotly.express as px\n",
    "from plotly.subplots import make_subplots\n",
    "import datetime\n",
    "import matplotlib.pyplot as plt\n",
    "%matplotlib inline\n",
    "import geopandas as gpd\n"
   ]
  },
  {
   "cell_type": "markdown",
   "id": "9e75c75a",
   "metadata": {},
   "source": [
    "## Part I - Data import"
   ]
  },
  {
   "cell_type": "markdown",
   "id": "5282eba5",
   "metadata": {},
   "source": [
    "Here comes the first part of the assignment. Importing the filtered data. Create a dataframe.\n",
    "Show the data in a table.\n"
   ]
  },
  {
   "cell_type": "code",
   "execution_count": 121,
   "id": "5e30cb3f",
   "metadata": {},
   "outputs": [],
   "source": [
    "file_path1 = 'GHG.csv'\n",
    "file_path2 = 'NOx_data.csv'\n",
    "file_path3 = '2.5.csv'\n",
    "file_path4 = '10.csv'\n",
    "\n",
    "\n",
    "df_GHG = pd.read_csv(file_path1, sep = ';',encoding='ISO-8859-1')\n",
    "df_NOx = pd.read_csv(file_path2, sep = ';',encoding='ISO-8859-1')\n",
    "df_twofive = pd.read_csv(file_path3, sep = ';',encoding='ISO-8859-1')\n",
    "df_ten = pd.read_csv(file_path4, sep = ';',encoding='ISO-8859-1')\n",
    "\n",
    "# The file had an incorrect delimiter which caused a ParserError,\n",
    "# this is solved by adding sep=';' when reading the file. \n",
    "# This file also gave some UnicodeDecodeErorr, this is solved \n",
    "# by using encoding='ISO-8859-1'\n",
    "\n"
   ]
  },
  {
   "cell_type": "code",
   "execution_count": null,
   "id": "bf8fabfe",
   "metadata": {},
   "outputs": [],
   "source": []
  },
  {
   "cell_type": "markdown",
   "id": "58d6a189",
   "metadata": {},
   "source": [
    " "
   ]
  },
  {
   "cell_type": "markdown",
   "id": "a6bac8b7",
   "metadata": {},
   "source": [
    "## Part II - Data processing"
   ]
  },
  {
   "cell_type": "markdown",
   "id": "bd80a2e5",
   "metadata": {},
   "source": [
    "Peak finding. Check of common peaks between data sets. "
   ]
  },
  {
   "cell_type": "markdown",
   "id": "0c52959c",
   "metadata": {},
   "source": [
    " "
   ]
  },
  {
   "cell_type": "markdown",
   "id": "3eef9b2a",
   "metadata": {},
   "source": [
    "## Part III - Data visualisation"
   ]
  },
  {
   "cell_type": "markdown",
   "id": "62e22aa8",
   "metadata": {},
   "source": [
    "Conclusion. Relate found info from Part II to our RQ. Perhaps with graphs, maps, etc. "
   ]
  },
  {
   "cell_type": "code",
   "execution_count": null,
   "id": "c0280147",
   "metadata": {},
   "outputs": [],
   "source": []
  },
  {
   "cell_type": "code",
   "execution_count": null,
   "id": "e84f1334",
   "metadata": {},
   "outputs": [],
   "source": []
  }
 ],
 "metadata": {
  "kernelspec": {
   "display_name": "Python 3 (ipykernel)",
   "language": "python",
   "name": "python3"
  },
  "language_info": {
   "codemirror_mode": {
    "name": "ipython",
    "version": 3
   },
   "file_extension": ".py",
   "mimetype": "text/x-python",
   "name": "python",
   "nbconvert_exporter": "python",
   "pygments_lexer": "ipython3",
   "version": "3.11.4"
  }
 },
 "nbformat": 4,
 "nbformat_minor": 5
}
