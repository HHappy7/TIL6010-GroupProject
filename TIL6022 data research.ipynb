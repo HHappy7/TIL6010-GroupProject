{
 "cells": [
  {
   "cell_type": "markdown",
   "metadata": {},
   "source": [
    "# Project Group  \n",
    "\n",
    "Members: Andreas Chrysostomou, Harpeet Singh, Lise van Dijk, Ralf Hardy and Sara Jacobs \n",
    "\n",
    "Student numbers: 5957273, 4870654, 4850580, 5348684, 4837193"
   ]
  },
  {
   "cell_type": "markdown",
   "metadata": {},
   "source": [
    "# Research Objective "
   ]
  },
  {
   "cell_type": "markdown",
   "metadata": {},
   "source": [
    "*Objective:*\n",
    "\n",
    "The objective of this research project is to utilize Python programming for analyzing air quality data before and during COVID-19 lockdowns, with a focus on understanding how human activities and mobility restrictions influenced air pollution levels.\n",
    "\n",
    "*Research Question:*\n",
    "\n",
    "What was the effect of COVID-19 on air pollution levels, comparing the pre-pandemic period with the pandemic period?"
   ]
  },
  {
   "cell_type": "markdown",
   "metadata": {},
   "source": [
    "# Contribution Statement"
   ]
  },
  {
   "cell_type": "markdown",
   "metadata": {},
   "source": [
    "**Author 1 - Andreas Chrysostomou**: Coding expert, Data modelling \n",
    "\n",
    "**Author 2 - Harpreet Singh**: Coding expert, Data modelling\n",
    "\n",
    "**Author 3 - Lise van Dijk**: Background research, Data analysis\n",
    "\n",
    "**Author 4 - Ralf Hardy**: Background research, Data analysis\n",
    "\n",
    "**Author 5 - Sara Jacobs**: Visualisation, Data analysis \n"
   ]
  },
  {
   "cell_type": "markdown",
   "metadata": {},
   "source": [
    "# Data Used"
   ]
  },
  {
   "cell_type": "markdown",
   "metadata": {},
   "source": [
    "*Sources and websites:*\n",
    "\n",
    "- Air quality data (2019 compared to 2021). air pollution, total actual emissions in the Netherlands Stationary and mobile sources, by source category.   \n",
    "\n",
    "https://opendata.cbs.nl/statline/portal.html?_la=en&_catalog=CBS&tableId=37221eng&_theme=1131 \n",
    "        \n",
    "        \n",
    "- Mobility characteristics per person, trip characteristics, modes of travel and regions.\n",
    "\n",
    "https://opendata.cbs.nl/statline/portal.html?_la=en&_catalog=CBS&tableId=84708ENG&_theme=1173 \n",
    "        \n",
    "\n",
    "- Mobility changes due to COVID-lockdowns.\n",
    "\n",
    "https://www.gstatic.com/covid19/mobility/2022-10-15_NL_South_Holland_Mobility_Report_nl.pdf \n",
    "        \n",
    "\n",
    "- Air pollution data (see table 2 of the article for maximum daily increase/decrease of concentrations).\n",
    "\n",
    "https://www.sciencedirect.com/science/article/pii/S0048969720339486 \n",
    "\n",
    "\n",
    "- Real-time Air Quality Index of the world's air pollution.\n",
    "\n",
    "https://waqi.info/ \n",
    "        \n",
    "\n",
    "- World Health Organization (WHO) Ambient Air Quality Database (Excel file). \n",
    "\n",
    "https://www.who.int/publications/m/item/who-ambient-air-quality-database-(update-2023) \n",
    "        \n",
    "\n",
    "- Overview of effects of Covid-19 on mobility (both air pollution and mobility data).   \n",
    "\n",
    "https://www.sciencedirect.com/science/article/pii/S0965856422000714#s0055 "
   ]
  },
  {
   "cell_type": "markdown",
   "metadata": {},
   "source": [
    "# Data Pipeline"
   ]
  },
  {
   "cell_type": "markdown",
   "metadata": {},
   "source": [
    "*Time scale:*\n",
    "\n",
    "For the time scale we will go for the year 2019, 2020 and 2022. \n",
    "This decision is based on the fact that we want to compare the air quality and \n",
    "emissions from the transportation industry before, during and after covid. \n",
    "The spatial scale that we will look at are countries. \n",
    "For the geographical boundary we have chosen Europe. \n",
    "This is based on the available environmental data. \n",
    "\n",
    "*Data Pipeline steps:*\n",
    "    \n",
    "1. Define the goal (RQ)\n",
    "2. Chose the data sources\n",
    "3. Data ingestion (how to extract)\n",
    "4. Data processing/filtering/reformatting (how to remove redundant data)\n",
    "5. Data storage\n",
    "6. Data analysis and reporting (create visualizations)\n",
    "7. References\n",
    "\n",
    "Once we have collected data and applied it to our project we then can make a complete data pipeline.\n"
   ]
  }
 ],
 "metadata": {
  "kernelspec": {
   "display_name": "Python 3 (ipykernel)",
   "language": "python",
   "name": "python3"
  },
  "language_info": {
   "codemirror_mode": {
    "name": "ipython",
    "version": 3
   },
   "file_extension": ".py",
   "mimetype": "text/x-python",
   "name": "python",
   "nbconvert_exporter": "python",
   "pygments_lexer": "ipython3",
   "version": "3.11.4"
  },
  "vscode": {
   "interpreter": {
    "hash": "31f2aee4e71d21fbe5cf8b01ff0e069b9275f58929596ceb00d14d90e3e16cd6"
   }
  }
 },
 "nbformat": 4,
 "nbformat_minor": 2
}
